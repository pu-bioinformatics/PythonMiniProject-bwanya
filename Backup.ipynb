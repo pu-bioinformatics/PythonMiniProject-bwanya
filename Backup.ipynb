{
 "cells": [
  {
   "cell_type": "markdown",
   "metadata": {},
   "source": [
    "## Backup"
   ]
  },
  {
   "cell_type": "code",
   "execution_count": null,
   "metadata": {},
   "outputs": [],
   "source": []
  },
  {
   "cell_type": "code",
   "execution_count": null,
   "metadata": {},
   "outputs": [],
   "source": [
    "def Secondary_structure(Full, chain):  \n",
    "    x = open(\"3AYU.pdb\", \"r\")\n",
    "    Helix_index = []\n",
    "    Sheet_index = []\n",
    "    Dashes = []\n",
    "    for line in x:\n",
    "        liney = line.split()\n",
    "        if line.startswith(\"HELIX\") and chain == liney[7]:\n",
    "            Helix_line = line.split()\n",
    "            Helic = Helix_line[5]\n",
    "            Helic2 = Helix_line[8]\n",
    "            for i in range (int(Helic),int(Helic2)+1):\n",
    "                Helix_index.append(i)\n",
    "        if line.startswith(\"SHEET\") and chain == liney[8]:\n",
    "            sheet_line = line.split()\n",
    "            sheet = sheet_line[6]\n",
    "            sheet2 = sheet_line[9]\n",
    "            for j in range (int(sheet),int(sheet2)+1):\n",
    "                Sheet_index.append(j)\n",
    "    #x.seek(0)\n",
    "    for i in range(0, (len(Full))):\n",
    "        Dashes.append('-')\n",
    "    print(Dashes)\n",
    "    for i in range(0,len(Helix_index)):\n",
    "        Helix_index[i]= int(Helix_index[i])\n",
    "    Helix_symbol = []\n",
    "    for i in range(0,len(Helix_index)):\n",
    "        Helix_symbol.append('/')\n",
    "    for index,symbol in zip(Helix_index,Helix_symbol):\n",
    "        Dashes[index-1]= symbol\n",
    "    for i in range(0,len(Sheet_index)):\n",
    "        Sheet_index[i]= int(Sheet_index[i])\n",
    "    Sheet_symbol = []\n",
    "    for i in range(0,len(Sheet_index)):\n",
    "        Sheet_symbol.append('|')\n",
    "    print(\"hapa\",Sheet_index, \"\\n\",Sheet_symbol)\n",
    "    for index,s in zip(Sheet_index,Sheet_symbol):\n",
    "        Dashes[index-1]= s\n",
    "    print(''.join(Dashes))\n",
    "    #x.seek(0)"
   ]
  },
  {
   "cell_type": "code",
   "execution_count": null,
   "metadata": {},
   "outputs": [],
   "source": [
    "x = open(\"3AYU.pdb\",\"r\")\n",
    "Amino_dict = {'ALA':'A','ARG':'R','ASN':'N','ASP':'D','CYS':'C','GLY':'G','GLN':'Q','GLU':'E','HIS':'H',\\\n",
    "'ILE':'I','LEU':'L','LYS':'K','MET':'M','PHE':'F','PRO':'P','SER':'S','THR':'T','TRP':'W','TYR':'Y','VAL':'V'}\n",
    "\n",
    "chains = []         #Empty list for appending chains present in pdb file\n",
    "#Amino_list = []\n",
    "for line in x:    \n",
    "    if line.startswith('SEQRES'):  \n",
    "        if line[11] not in chains:   #If chain is present on file and has not been appended to chains list,it is added\n",
    "            chains.append(line[11])\n",
    "print(chains)            \n",
    "x.seek(0)\n",
    "for chain in chains:\n",
    "    sequences = \"\"\n",
    "    for line in x:\n",
    "        if line.startswith('SEQRES') and line[11]==chain:\n",
    "            Lines = line.split()\n",
    "            Amino_seq = list(Lines[4:])\n",
    "            Dict_amino = {}                   #Getting the sequence of amino acids on file\n",
    "            \n",
    "            for key in Amino_seq:\n",
    "                Dict_amino[key] = Amino_dict[key]\n",
    "                sequences += Dict_amino.get(key)\n",
    "                #if chain == line[11]:\n",
    "    print(sequences)\n",
    "    Secondary_structure(sequences, chain)\n",
    "    x.seek(0)\n",
    "    \n",
    "            #                 Amino_list.append(sequences)                       \n",
    "#             Amino_list = \"\".join(sequences) \n",
    "#             print(Amino_list)"
   ]
  },
  {
   "cell_type": "code",
   "execution_count": null,
   "metadata": {},
   "outputs": [],
   "source": [
    "for i in range(0, len(Full_Aminoseq)):\n",
    "        Dashes.append('-')\n",
    "#print(Helix_index, Sheet_index, sep='\\n')\n",
    "for i in range(0,len(Helix_index)):\n",
    "    Helix_index[i]= int(Helix_index[i])\n",
    "    Helix_symbol.append('/')\n",
    "print(Dashes)\n",
    "for (index,symbol) in zip(Helix_index,Helix_symbol):\n",
    "    Dashes[index-1] = symbol\n",
    "for i in range(0,len(Sheet_index)):\n",
    "    Sheet_index[i]= int(Sheet_index[i])\n",
    "    Sheet_symbol.append('|')\n",
    "\n",
    "for index,symbol in zip(Sheet_index,Sheet_symbol):\n",
    "    Dashes[index-1] = symbol\n",
    "#print(Helix_symbol)\n",
    "\n",
    "print(Sheet_symbol)\n",
    "\n",
    "print(''.join(Dashes))"
   ]
  }
 ],
 "metadata": {
  "kernelspec": {
   "display_name": "Python 3",
   "language": "python",
   "name": "python3"
  },
  "language_info": {
   "codemirror_mode": {
    "name": "ipython",
    "version": 3
   },
   "file_extension": ".py",
   "mimetype": "text/x-python",
   "name": "python",
   "nbconvert_exporter": "python",
   "pygments_lexer": "ipython3",
   "version": "3.7.3"
  }
 },
 "nbformat": 4,
 "nbformat_minor": 2
}

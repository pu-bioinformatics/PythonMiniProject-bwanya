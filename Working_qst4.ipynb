{
 "cells": [
  {
   "cell_type": "code",
   "execution_count": null,
   "metadata": {},
   "outputs": [],
   "source": []
  },
  {
   "cell_type": "code",
   "execution_count": 75,
   "metadata": {},
   "outputs": [
    {
     "name": "stdout",
     "output_type": "stream",
     "text": [
      "Chain: A\n",
      "(1)\n",
      "YNFFPRKPKWDKNQITYRIIGYTPDLDPETVDDAFARAFQVWSDVTPLRFSRIHDGEADIMINFGRWEHGDGYPFDGKDG \n",
      " -||----------||||||-------//////////////////----||||-------||||||--------------- \n",
      "  1A          2B           1                     1B         3B                   \n",
      "LLAHAFAPGTGVGGDSHFDDDELWTLGKGVGYSLFLVAAHAFGHAMGLEHSQDPGALMAPIYTYTKNFRLSQDDIKGIQE \n",
      " --||||---------||||----||------||/////////////-||---------------------////////// \n",
      "   5B           4B      1C      2C2             2A                     3         \n",
      "LYGASPD \n",
      " ///---- \n",
      "        \n",
      "( 167 )\n",
      "\n",
      "Chain: B\n",
      "(1)\n",
      "ISYGNDALMP \n",
      " ------||-- \n",
      "       6B  \n",
      "( 10 )\n",
      "\n"
     ]
    }
   ],
   "source": [
    "x = open(\"3AYU.pdb\",\"r\")\n",
    "Amino_dict = {'ALA':'A','ARG':'R','ASN':'N','ASP':'D','CYS':'C','GLY':'G','GLN':'Q','GLU':'E','HIS':'H',\\\n",
    "'ILE':'I','LEU':'L','LYS':'K','MET':'M','PHE':'F','PRO':'P','SER':'S','THR':'T','TRP':'W','TYR':'Y','VAL':'V'}\n",
    "\n",
    "chains = []         #Empty list for appending chains present in pdb file\n",
    "for line in x:    \n",
    "    if line.startswith('SEQRES'):  \n",
    "        if line[11] not in chains:   #If chain is present on file and has not been appended to chains list,it is added\n",
    "            chains.append(line[11])            \n",
    "x.seek(0)\n",
    "for chain in chains:\n",
    "    sequences = \"\"\n",
    "    for line in x:\n",
    "        if line.startswith('SEQRES') and line[11]==chain:\n",
    "            Lines = line.split()\n",
    "            Amino_seq = list(Lines[4:])\n",
    "            Dict_amino = {}                   #Getting the sequence of amino acids on file\n",
    "            \n",
    "            for key in Amino_seq:\n",
    "                Dict_amino[key] = Amino_dict[key]\n",
    "                sequences += Dict_amino.get(key)\n",
    "    Secondary_structure(sequences, chain)\n",
    "    x.seek(0)"
   ]
  },
  {
   "cell_type": "code",
   "execution_count": 57,
   "metadata": {},
   "outputs": [],
   "source": [
    "def Secondary_structure(Full, chain):  \n",
    "    x = open(\"3AYU.pdb\", \"r\")\n",
    "    Helix_index = []\n",
    "    Sheet_index = []\n",
    "    Dashes = []\n",
    "    for line in x:\n",
    "        liney = line.split()\n",
    "        if line.startswith(\"HELIX\") and chain == liney[7]:\n",
    "            Helix_line = line.split()\n",
    "            Helic = Helix_line[5]\n",
    "            Helic2 = Helix_line[8]\n",
    "            for i in range (int(Helic),int(Helic2)+1):\n",
    "                Helix_index.append(i)\n",
    "        if line.startswith(\"SHEET\") and chain == liney[8]:\n",
    "            sheet_line = line.split()\n",
    "            sheet = sheet_line[6]\n",
    "            sheet2 = sheet_line[9]\n",
    "            for j in range (int(sheet),int(sheet2)+1):\n",
    "                Sheet_index.append(j)\n",
    "    #x.seek(0)\n",
    "    for i in range(0, (len(Full))):\n",
    "        Dashes.append('-')\n",
    "    print(Dashes)\n",
    "    for i in range(0,len(Helix_index)):\n",
    "        Helix_index[i]= int(Helix_index[i])\n",
    "    Helix_symbol = []\n",
    "    for i in range(0,len(Helix_index)):\n",
    "        Helix_symbol.append('/')\n",
    "    for index,symbol in zip(Helix_index,Helix_symbol):\n",
    "        Dashes[index-1]= symbol\n",
    "    for i in range(0,len(Sheet_index)):\n",
    "        Sheet_index[i]= int(Sheet_index[i])\n",
    "    Sheet_symbol = []\n",
    "    for i in range(0,len(Sheet_index)):\n",
    "        Sheet_symbol.append('|')\n",
    "    print(\"hapa\",Sheet_index, \"\\n\",Sheet_symbol)\n",
    "    for index,s in zip(Sheet_index,Sheet_symbol):\n",
    "        Dashes[index-1]= s\n",
    "    print(''.join(Dashes))\n",
    "    #x.seek(0)"
   ]
  },
  {
   "cell_type": "code",
   "execution_count": 14,
   "metadata": {},
   "outputs": [
    {
     "name": "stdout",
     "output_type": "stream",
     "text": [
      "['-', '-', '-', '-', '-', '-', '-', '-', '-', '-']\n"
     ]
    },
    {
     "ename": "IndexError",
     "evalue": "list assignment index out of range",
     "output_type": "error",
     "traceback": [
      "\u001b[0;31m---------------------------------------------------------------------------\u001b[0m",
      "\u001b[0;31mIndexError\u001b[0m                                Traceback (most recent call last)",
      "\u001b[0;32m<ipython-input-14-335e2f0ed6f8>\u001b[0m in \u001b[0;36m<module>\u001b[0;34m\u001b[0m\n\u001b[0;32m----> 1\u001b[0;31m \u001b[0mSecondary_structure\u001b[0m\u001b[0;34m(\u001b[0m\u001b[0msequences\u001b[0m\u001b[0;34m)\u001b[0m\u001b[0;34m\u001b[0m\u001b[0;34m\u001b[0m\u001b[0m\n\u001b[0m",
      "\u001b[0;32m<ipython-input-13-07572378b970>\u001b[0m in \u001b[0;36mSecondary_structure\u001b[0;34m(Full)\u001b[0m\n\u001b[1;32m     28\u001b[0m     \u001b[0mx\u001b[0m\u001b[0;34m.\u001b[0m\u001b[0mseek\u001b[0m\u001b[0;34m(\u001b[0m\u001b[0;36m0\u001b[0m\u001b[0;34m)\u001b[0m\u001b[0;34m\u001b[0m\u001b[0;34m\u001b[0m\u001b[0m\n\u001b[1;32m     29\u001b[0m     \u001b[0;32mfor\u001b[0m \u001b[0mindex\u001b[0m\u001b[0;34m,\u001b[0m\u001b[0msymbol\u001b[0m \u001b[0;32min\u001b[0m \u001b[0mzip\u001b[0m\u001b[0;34m(\u001b[0m\u001b[0mHelix_index\u001b[0m\u001b[0;34m,\u001b[0m\u001b[0mHelix_symbol\u001b[0m\u001b[0;34m)\u001b[0m\u001b[0;34m:\u001b[0m\u001b[0;34m\u001b[0m\u001b[0;34m\u001b[0m\u001b[0m\n\u001b[0;32m---> 30\u001b[0;31m         \u001b[0mDashes\u001b[0m\u001b[0;34m[\u001b[0m\u001b[0mindex\u001b[0m\u001b[0;34m-\u001b[0m\u001b[0;36m1\u001b[0m\u001b[0;34m]\u001b[0m\u001b[0;34m=\u001b[0m \u001b[0msymbol\u001b[0m\u001b[0;34m\u001b[0m\u001b[0;34m\u001b[0m\u001b[0m\n\u001b[0m\u001b[1;32m     31\u001b[0m     \u001b[0;32mfor\u001b[0m \u001b[0mi\u001b[0m \u001b[0;32min\u001b[0m \u001b[0mrange\u001b[0m\u001b[0;34m(\u001b[0m\u001b[0;36m0\u001b[0m\u001b[0;34m,\u001b[0m\u001b[0mlen\u001b[0m\u001b[0;34m(\u001b[0m\u001b[0mSheet_index\u001b[0m\u001b[0;34m)\u001b[0m\u001b[0;34m)\u001b[0m\u001b[0;34m:\u001b[0m\u001b[0;34m\u001b[0m\u001b[0;34m\u001b[0m\u001b[0m\n\u001b[1;32m     32\u001b[0m         \u001b[0mSheet_index\u001b[0m\u001b[0;34m[\u001b[0m\u001b[0mi\u001b[0m\u001b[0;34m]\u001b[0m\u001b[0;34m=\u001b[0m \u001b[0mint\u001b[0m\u001b[0;34m(\u001b[0m\u001b[0mSheet_index\u001b[0m\u001b[0;34m[\u001b[0m\u001b[0mi\u001b[0m\u001b[0;34m]\u001b[0m\u001b[0;34m)\u001b[0m\u001b[0;34m\u001b[0m\u001b[0;34m\u001b[0m\u001b[0m\n",
      "\u001b[0;31mIndexError\u001b[0m: list assignment index out of range"
     ]
    }
   ],
   "source": [
    "Secondary_structure(sequences)"
   ]
  },
  {
   "cell_type": "code",
   "execution_count": 5,
   "metadata": {},
   "outputs": [
    {
     "name": "stdout",
     "output_type": "stream",
     "text": [
      "[27, 28, 29, 30, 31, 32, 33, 34, 35, 36, 37, 38, 39, 40, 41, 42, 43, 44, 114, 115, 116, 117, 118, 119, 120, 121, 122, 123, 124, 125, 126, 151, 152, 153, 154, 155, 156, 157, 158, 159, 160, 161, 162, 163]\n",
      "[2, 3, 128, 129, 49, 50, 51, 52, 14, 15, 16, 17, 18, 19, 60, 61, 62, 63, 64, 65, 96, 97, 98, 99, 83, 84, 85, 86, 7, 8, 104, 105, 112, 113]\n"
     ]
    },
    {
     "ename": "IndexError",
     "evalue": "list assignment index out of range",
     "output_type": "error",
     "traceback": [
      "\u001b[0;31m---------------------------------------------------------------------------\u001b[0m",
      "\u001b[0;31mIndexError\u001b[0m                                Traceback (most recent call last)",
      "\u001b[0;32m<ipython-input-5-25c39586f650>\u001b[0m in \u001b[0;36m<module>\u001b[0;34m\u001b[0m\n\u001b[0;32m----> 1\u001b[0;31m \u001b[0mSecondary_structure\u001b[0m\u001b[0;34m(\u001b[0m\u001b[0;34m)\u001b[0m\u001b[0;34m\u001b[0m\u001b[0;34m\u001b[0m\u001b[0m\n\u001b[0m",
      "\u001b[0;32m<ipython-input-4-070d95f5c5cc>\u001b[0m in \u001b[0;36mSecondary_structure\u001b[0;34m()\u001b[0m\n\u001b[1;32m     27\u001b[0m         \u001b[0mHelix_symbol\u001b[0m\u001b[0;34m.\u001b[0m\u001b[0mappend\u001b[0m\u001b[0;34m(\u001b[0m\u001b[0;34m'/'\u001b[0m\u001b[0;34m)\u001b[0m\u001b[0;34m\u001b[0m\u001b[0;34m\u001b[0m\u001b[0m\n\u001b[1;32m     28\u001b[0m     \u001b[0;32mfor\u001b[0m \u001b[0mindex\u001b[0m\u001b[0;34m,\u001b[0m\u001b[0msymbol\u001b[0m \u001b[0;32min\u001b[0m \u001b[0mzip\u001b[0m\u001b[0;34m(\u001b[0m\u001b[0mHelix_index\u001b[0m\u001b[0;34m,\u001b[0m\u001b[0mHelix_symbol\u001b[0m\u001b[0;34m)\u001b[0m\u001b[0;34m:\u001b[0m\u001b[0;34m\u001b[0m\u001b[0;34m\u001b[0m\u001b[0m\n\u001b[0;32m---> 29\u001b[0;31m         \u001b[0mDashes\u001b[0m\u001b[0;34m[\u001b[0m\u001b[0mindex\u001b[0m\u001b[0;34m-\u001b[0m\u001b[0;36m1\u001b[0m\u001b[0;34m]\u001b[0m\u001b[0;34m=\u001b[0m \u001b[0msymbol\u001b[0m\u001b[0;34m\u001b[0m\u001b[0;34m\u001b[0m\u001b[0m\n\u001b[0m\u001b[1;32m     30\u001b[0m     \u001b[0;32mfor\u001b[0m \u001b[0mi\u001b[0m \u001b[0;32min\u001b[0m \u001b[0mrange\u001b[0m\u001b[0;34m(\u001b[0m\u001b[0;36m0\u001b[0m\u001b[0;34m,\u001b[0m\u001b[0mlen\u001b[0m\u001b[0;34m(\u001b[0m\u001b[0mSheet_index\u001b[0m\u001b[0;34m)\u001b[0m\u001b[0;34m)\u001b[0m\u001b[0;34m:\u001b[0m\u001b[0;34m\u001b[0m\u001b[0;34m\u001b[0m\u001b[0m\n\u001b[1;32m     31\u001b[0m         \u001b[0mSheet_index\u001b[0m\u001b[0;34m[\u001b[0m\u001b[0mi\u001b[0m\u001b[0;34m]\u001b[0m\u001b[0;34m=\u001b[0m \u001b[0mint\u001b[0m\u001b[0;34m(\u001b[0m\u001b[0mSheet_index\u001b[0m\u001b[0;34m[\u001b[0m\u001b[0mi\u001b[0m\u001b[0;34m]\u001b[0m\u001b[0;34m)\u001b[0m\u001b[0;34m\u001b[0m\u001b[0;34m\u001b[0m\u001b[0m\n",
      "\u001b[0;31mIndexError\u001b[0m: list assignment index out of range"
     ]
    }
   ],
   "source": [
    "Secondary_structure()"
   ]
  },
  {
   "cell_type": "markdown",
   "metadata": {},
   "source": [
    "## lABELS"
   ]
  },
  {
   "cell_type": "code",
   "execution_count": 73,
   "metadata": {},
   "outputs": [],
   "source": [
    "def Secondary_structure(Full, chain):  \n",
    "    x = open(\"3AYU.pdb\", \"r\")\n",
    "    Helix_index = []\n",
    "    Sheet_index = []\n",
    "    Dashes = []\n",
    "    Label_spaces = []\n",
    "    Helix_label = []\n",
    "    Helix_labels_index = []\n",
    "    Sheet_label = []\n",
    "    Sheet_labels_index = []\n",
    "    for line in x:\n",
    "        liney = line.split()\n",
    "        if line.startswith(\"HELIX\") and chain == liney[7]:\n",
    "            Helix_line = line.split()\n",
    "            Helic = Helix_line[5]\n",
    "            Helic2 = Helix_line[8]\n",
    "            Helix_labels_index.append(Helic)\n",
    "            Helix_label.append(Helix_line[2]) \n",
    "            for i in range (int(Helic),int(Helic2)+1):\n",
    "                Helix_index.append(i)\n",
    "        if line.startswith(\"SHEET\") and chain == liney[8]:\n",
    "            sheet_line = line.split()\n",
    "            sheet = sheet_line[6]\n",
    "            sheet2 = sheet_line[9]\n",
    "            Sheet_labels_index.append(sheet)\n",
    "            Sheet_label.append(str(sheet_line[1]) + str(sheet_line[2]))\n",
    "            for j in range (int(sheet),int(sheet2)+1):\n",
    "                Sheet_index.append(j)\n",
    "                \n",
    "    for i in range(0,len(Helix_labels_index)):\n",
    "        Helix_labels_index[i]= int(Helix_labels_index[i])  \n",
    "    for i in range(0, (len(Full))):\n",
    "        Dashes.append('-')\n",
    "        Label_spaces.append(\" \")\n",
    "    for l,k in zip(Helix_labels_index,Helix_label):\n",
    "        Label_spaces[l-1] = k\n",
    "        \n",
    "    for i in range(0,len(Helix_index)):\n",
    "        Helix_index[i]= int(Helix_index[i])\n",
    "    Helix_symbol = []\n",
    "    for i in range(0,len(Helix_index)):\n",
    "        Helix_symbol.append('/')\n",
    "    for index,symbol in zip(Helix_index,Helix_symbol):\n",
    "        Dashes[index-1]= symbol\n",
    "        \n",
    "    for i in range(0,len(Sheet_labels_index)):\n",
    "        Sheet_labels_index[i]= int(Sheet_labels_index[i])\n",
    "    for sl,si in zip(Sheet_labels_index, Sheet_label):\n",
    "        if len(si) > 1:\n",
    "            Label_spaces[sl-1:sl+len(si)-1]=si\n",
    "        else:\n",
    "            Label_spaces[sl-1] = si\n",
    "        \n",
    "    for i in range(0,len(Sheet_index)):\n",
    "        Sheet_index[i]= int(Sheet_index[i])\n",
    "    Sheet_symbol = []\n",
    "    for i in range(0,len(Sheet_index)):\n",
    "        Sheet_symbol.append('|')\n",
    "    for index,s in zip(Sheet_index,Sheet_symbol):\n",
    "        Dashes[index-1]= s\n",
    "    Sec_struct(''.join(sequences), ''.join(Dashes),''.join(Label_spaces) )"
   ]
  },
  {
   "cell_type": "code",
   "execution_count": 72,
   "metadata": {},
   "outputs": [],
   "source": [
    "def Sec_struct(sequences, Dashes, Label_spaces):\n",
    "    print('Chain:', chain)\n",
    "    print(\"(1)\")\n",
    "    for c in range(0,len(sequences),80):\n",
    "        print(sequences[c:c+80],'\\n', Dashes[c:c+80],'\\n', Label_spaces[c:c+80])\n",
    "    print(\"(\",len(sequences),\")\\n\")       "
   ]
  },
  {
   "cell_type": "code",
   "execution_count": null,
   "metadata": {},
   "outputs": [],
   "source": []
  }
 ],
 "metadata": {
  "kernelspec": {
   "display_name": "Python 3",
   "language": "python",
   "name": "python3"
  },
  "language_info": {
   "codemirror_mode": {
    "name": "ipython",
    "version": 3
   },
   "file_extension": ".py",
   "mimetype": "text/x-python",
   "name": "python",
   "nbconvert_exporter": "python",
   "pygments_lexer": "ipython3",
   "version": "3.7.3"
  }
 },
 "nbformat": 4,
 "nbformat_minor": 2
}
